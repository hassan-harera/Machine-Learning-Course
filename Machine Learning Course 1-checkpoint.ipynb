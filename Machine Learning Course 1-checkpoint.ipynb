{
 "cells": [
  {
   "cell_type": "code",
   "execution_count": null,
   "metadata": {},
   "outputs": [],
   "source": [
    "import numpy as np\n",
    "import pandas as pd\n",
    "import matplotlib.pyplot as plt\n",
    "\n",
    "\n",
    "path = 'E:\\\\courses\\Machine Learning\\Machine Learning Hesham Asem\\\\02 تعليم الآلة , القسم الثاني  التوقع Machine learning , Regression\\\\1.txt'\n",
    "data = pd.read_csv(path, header=None, names=[\"Population\", \"Profit\"])\n",
    "# print(data.head(10))\n",
    "# print(data.describe())\n",
    "\n",
    "plt = data.plot(kind='scatter', x=\"Population\", y=\"Profit\", figsize=(5,5))\n",
    "\n",
    "print(plt)"
   ]
  },
  {
   "cell_type": "code",
   "execution_count": null,
   "metadata": {},
   "outputs": [],
   "source": [
    "data.insert(0, \"Ones\", 1)\n",
    "data"
   ]
  },
  {
   "cell_type": "code",
   "execution_count": null,
   "metadata": {},
   "outputs": [],
   "source": [
    "cols = data.shape[1]\n",
    "x = data.iloc[:, 0:cols-1]\n",
    "y = data.iloc[:, cols-1:cols]\n",
    "print(x)\n",
    "print(y)"
   ]
  },
  {
   "cell_type": "code",
   "execution_count": null,
   "metadata": {},
   "outputs": [],
   "source": [
    "x = np.matrix(x.values)\n",
    "y = np.matrix(y.values)"
   ]
  },
  {
   "cell_type": "code",
   "execution_count": null,
   "metadata": {},
   "outputs": [],
   "source": [
    "theta  = np.matrix(np.array([0,0]))"
   ]
  },
  {
   "cell_type": "code",
   "execution_count": null,
   "metadata": {},
   "outputs": [],
   "source": [
    "def computeLossCost(x,y,theta):\n",
    "    z = np.power((x*theta.T) - y,2)\n",
    "    return np.sum(z) / (2*len(z))\n",
    "print(computeLossCost(x,y,theta))"
   ]
  },
  {
   "cell_type": "code",
   "execution_count": null,
   "metadata": {},
   "outputs": [],
   "source": [
    "def GradientDescent(x,y,theta,its, alpha):\n",
    "        temp = theta.copy\n",
    "        cost = np.zeros(its)\n",
    "        \n",
    "        for i in range(its):\n",
    "            error = (x * theta.T) - y)\n",
    "            NewTheta = error.T*x;\n",
    "            theta = theta - ((alpha / x.leth) * np.sum(NewTheta))\n",
    "            cost[i] = computeLossCost(x,y,theta)\n",
    "        return theta, cost\n",
    "theta = np.zeros(x.shape[1])\n",
    "theta, cost = GradientDescent(x,y,theta,1000,0.01)"
   ]
  },
  {
   "cell_type": "code",
   "execution_count": null,
   "metadata": {},
   "outputs": [],
   "source": [
    "import numpy as np\n",
    "import pandas as pd\n",
    "import matplotlib.pyplot as plt\n",
    "\n",
    "\n",
    "path = 'E:\\\\courses\\Machine Learning\\Machine Learning Hesham Asem\\\\02 تعليم الآلة , القسم الثاني  التوقع Machine learning , Regression\\\\1.txt'\n",
    "data = pd.read_csv(path, header=None, names=[\"Population\", \"Profit\"])\n",
    "\n",
    "# plt = data.plot(kind='scatter', x=\"Population\", y=\"Profit\", figsize=(5,5))\n",
    "\n",
    "\n",
    "\n",
    "\n",
    "data.insert(0, \"Ones\", 1)\n",
    "data\n",
    "\n",
    "\n",
    "cols = data.shape[1]\n",
    "x = data.iloc[:, 0:cols-1]\n",
    "y = data.iloc[:, cols-1:cols]\n",
    "\n",
    "\n",
    "x = np.matrix(x.values)\n",
    "y = np.matrix(y.values)\n",
    "\n",
    "\n",
    "\n",
    "def computeLossCost(x,y,theta):\n",
    "    z = np.power((x*theta.T) - y,2)\n",
    "    return np.sum(z) / (2*len(z))\n",
    "\n",
    "\n",
    "def GradientDescent(x, y, theta, its, alpha):\n",
    "    cost = np.zeros(its)\n",
    "    temp = np.matrix(np.zeros(theta.shape))\n",
    "    for i in range(its):\n",
    "        error = (x * theta.T) - y\n",
    "#         NewTheta = (error.T) * x\n",
    "#         theta = theta - ((alpha / len(x)) * np.sum(NewTheta))\n",
    "#         theta[0,0] = theta[0,0] - ((alpha / len(x)) * np.sum(NewTheta[0,0]))\n",
    "#         theta[0,1] = theta[0,1] - ((alpha / len(x)) * np.sum(NewTheta[0,1]))\n",
    "#         cost[i] = computeLossCost(x, y, theta)\n",
    "        for j in range(2):\n",
    "            term = np.multiply(error, x[:,j])\n",
    "            temp[0,j] = theta[0,j] - ((alpha / len(x)) * np.sum(term))\n",
    "        theta = temp\n",
    "        cost[i] = computeLossCost(x, y, theta)\n",
    "        \n",
    "\n",
    "    return theta, cost\n",
    "\n",
    "\n",
    "theta  = np.matrix(np.array([0,0]))\n",
    "theta, cost = GradientDescent(x, y, theta, 1000, 0.01)\n",
    "\n",
    "print(theta, cost[999])"
   ]
  },
  {
   "cell_type": "code",
   "execution_count": null,
   "metadata": {},
   "outputs": [],
   "source": [
    "f = theta[0,0] + (theta[0,1] * x)"
   ]
  },
  {
   "cell_type": "code",
   "execution_count": null,
   "metadata": {},
   "outputs": [],
   "source": [
    "fig, ax = plt.subplots(figsize=(5,5))\n",
    "ax.plot(x,f, label=\"FitLine\")\n",
    "ax.scatter(data.Population, data.Profit, label=\"Data\")"
   ]
  },
  {
   "cell_type": "code",
   "execution_count": null,
   "metadata": {},
   "outputs": [],
   "source": [
    "fig, ax = plt.subplots(figsize=(5,5))\n",
    "ax.plot(np.arange(1000), cost)"
   ]
  },
  {
   "cell_type": "code",
   "execution_count": null,
   "metadata": {},
   "outputs": [],
   "source": []
  }
 ],
 "metadata": {
  "kernelspec": {
   "display_name": "Python 3",
   "language": "python",
   "name": "python3"
  },
  "language_info": {
   "codemirror_mode": {
    "name": "ipython",
    "version": 3
   },
   "file_extension": ".py",
   "mimetype": "text/x-python",
   "name": "python",
   "nbconvert_exporter": "python",
   "pygments_lexer": "ipython3",
   "version": "3.8.3"
  }
 },
 "nbformat": 4,
 "nbformat_minor": 4
}
